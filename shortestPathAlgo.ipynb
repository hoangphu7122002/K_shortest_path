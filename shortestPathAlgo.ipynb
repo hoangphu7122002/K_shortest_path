{
  "cells": [
    {
      "cell_type": "code",
      "execution_count": null,
      "metadata": {
        "id": "vtXlyjeeBhxf"
      },
      "outputs": [],
      "source": [
        "import numpy as np\n",
        "import pandas as pd\n",
        "import copy\n",
        "import math\n",
        "import heapq"
      ]
    },
    {
      "attachments": {},
      "cell_type": "markdown",
      "metadata": {
        "id": "T6-O3s2JDwW4"
      },
      "source": [
        "**Get data**"
      ]
    },
    {
      "cell_type": "code",
      "execution_count": null,
      "metadata": {
        "id": "CHVtoj_CD8JF"
      },
      "outputs": [],
      "source": [
        "data = pd.read_csv('edge.csv')"
      ]
    },
    {
      "cell_type": "code",
      "execution_count": null,
      "metadata": {
        "colab": {
          "base_uri": "https://localhost:8080/",
          "height": 363
        },
        "id": "oAhOlkHBEF_y",
        "outputId": "3ec344aa-ea47-482f-c2e9-8cf7a24ff6be"
      },
      "outputs": [
        {
          "data": {
            "text/html": [
              "\n",
              "  <div id=\"df-52c0d2bf-082e-4a69-a845-11645e526d99\">\n",
              "    <div class=\"colab-df-container\">\n",
              "      <div>\n",
              "<style scoped>\n",
              "    .dataframe tbody tr th:only-of-type {\n",
              "        vertical-align: middle;\n",
              "    }\n",
              "\n",
              "    .dataframe tbody tr th {\n",
              "        vertical-align: top;\n",
              "    }\n",
              "\n",
              "    .dataframe thead th {\n",
              "        text-align: right;\n",
              "    }\n",
              "</style>\n",
              "<table border=\"1\" class=\"dataframe\">\n",
              "  <thead>\n",
              "    <tr style=\"text-align: right;\">\n",
              "      <th></th>\n",
              "      <th>WKT</th>\n",
              "      <th>name</th>\n",
              "      <th>description</th>\n",
              "    </tr>\n",
              "  </thead>\n",
              "  <tbody>\n",
              "    <tr>\n",
              "      <th>0</th>\n",
              "      <td>LINESTRING (106.657734 10.7720657, 106.6581232...</td>\n",
              "      <td>Line 1</td>\n",
              "      <td>NaN</td>\n",
              "    </tr>\n",
              "    <tr>\n",
              "      <th>1</th>\n",
              "      <td>LINESTRING (106.6679937 10.7681858, 106.674394...</td>\n",
              "      <td>Line 3</td>\n",
              "      <td>NaN</td>\n",
              "    </tr>\n",
              "    <tr>\n",
              "      <th>2</th>\n",
              "      <td>LINESTRING (106.6743943 10.7677114, 106.681702...</td>\n",
              "      <td>Line 4</td>\n",
              "      <td>NaN</td>\n",
              "    </tr>\n",
              "    <tr>\n",
              "      <th>3</th>\n",
              "      <td>LINESTRING (106.6581232 10.770494, 106.663574 ...</td>\n",
              "      <td>Line 5</td>\n",
              "      <td>NaN</td>\n",
              "    </tr>\n",
              "    <tr>\n",
              "      <th>4</th>\n",
              "      <td>LINESTRING (106.663574 10.7764293, 106.6657012...</td>\n",
              "      <td>Line 6</td>\n",
              "      <td>NaN</td>\n",
              "    </tr>\n",
              "    <tr>\n",
              "      <th>5</th>\n",
              "      <td>LINESTRING (106.6731007 10.7709472, 106.674394...</td>\n",
              "      <td>Line 7</td>\n",
              "      <td>NaN</td>\n",
              "    </tr>\n",
              "    <tr>\n",
              "      <th>6</th>\n",
              "      <td>LINESTRING (106.657734 10.7720657, 106.6560754...</td>\n",
              "      <td>Line 8</td>\n",
              "      <td>NaN</td>\n",
              "    </tr>\n",
              "    <tr>\n",
              "      <th>7</th>\n",
              "      <td>LINESTRING (106.6589034 10.7806876, 106.663574...</td>\n",
              "      <td>Line 9</td>\n",
              "      <td>NaN</td>\n",
              "    </tr>\n",
              "    <tr>\n",
              "      <th>8</th>\n",
              "      <td>LINESTRING (106.6707618 10.7696614, 106.665539...</td>\n",
              "      <td>Line 10</td>\n",
              "      <td>NaN</td>\n",
              "    </tr>\n",
              "    <tr>\n",
              "      <th>9</th>\n",
              "      <td>LINESTRING (106.6816408 10.7778613, 106.689108...</td>\n",
              "      <td>Line 11</td>\n",
              "      <td>NaN</td>\n",
              "    </tr>\n",
              "  </tbody>\n",
              "</table>\n",
              "</div>\n",
              "      <button class=\"colab-df-convert\" onclick=\"convertToInteractive('df-52c0d2bf-082e-4a69-a845-11645e526d99')\"\n",
              "              title=\"Convert this dataframe to an interactive table.\"\n",
              "              style=\"display:none;\">\n",
              "        \n",
              "  <svg xmlns=\"http://www.w3.org/2000/svg\" height=\"24px\"viewBox=\"0 0 24 24\"\n",
              "       width=\"24px\">\n",
              "    <path d=\"M0 0h24v24H0V0z\" fill=\"none\"/>\n",
              "    <path d=\"M18.56 5.44l.94 2.06.94-2.06 2.06-.94-2.06-.94-.94-2.06-.94 2.06-2.06.94zm-11 1L8.5 8.5l.94-2.06 2.06-.94-2.06-.94L8.5 2.5l-.94 2.06-2.06.94zm10 10l.94 2.06.94-2.06 2.06-.94-2.06-.94-.94-2.06-.94 2.06-2.06.94z\"/><path d=\"M17.41 7.96l-1.37-1.37c-.4-.4-.92-.59-1.43-.59-.52 0-1.04.2-1.43.59L10.3 9.45l-7.72 7.72c-.78.78-.78 2.05 0 2.83L4 21.41c.39.39.9.59 1.41.59.51 0 1.02-.2 1.41-.59l7.78-7.78 2.81-2.81c.8-.78.8-2.07 0-2.86zM5.41 20L4 18.59l7.72-7.72 1.47 1.35L5.41 20z\"/>\n",
              "  </svg>\n",
              "      </button>\n",
              "      \n",
              "  <style>\n",
              "    .colab-df-container {\n",
              "      display:flex;\n",
              "      flex-wrap:wrap;\n",
              "      gap: 12px;\n",
              "    }\n",
              "\n",
              "    .colab-df-convert {\n",
              "      background-color: #E8F0FE;\n",
              "      border: none;\n",
              "      border-radius: 50%;\n",
              "      cursor: pointer;\n",
              "      display: none;\n",
              "      fill: #1967D2;\n",
              "      height: 32px;\n",
              "      padding: 0 0 0 0;\n",
              "      width: 32px;\n",
              "    }\n",
              "\n",
              "    .colab-df-convert:hover {\n",
              "      background-color: #E2EBFA;\n",
              "      box-shadow: 0px 1px 2px rgba(60, 64, 67, 0.3), 0px 1px 3px 1px rgba(60, 64, 67, 0.15);\n",
              "      fill: #174EA6;\n",
              "    }\n",
              "\n",
              "    [theme=dark] .colab-df-convert {\n",
              "      background-color: #3B4455;\n",
              "      fill: #D2E3FC;\n",
              "    }\n",
              "\n",
              "    [theme=dark] .colab-df-convert:hover {\n",
              "      background-color: #434B5C;\n",
              "      box-shadow: 0px 1px 3px 1px rgba(0, 0, 0, 0.15);\n",
              "      filter: drop-shadow(0px 1px 2px rgba(0, 0, 0, 0.3));\n",
              "      fill: #FFFFFF;\n",
              "    }\n",
              "  </style>\n",
              "\n",
              "      <script>\n",
              "        const buttonEl =\n",
              "          document.querySelector('#df-52c0d2bf-082e-4a69-a845-11645e526d99 button.colab-df-convert');\n",
              "        buttonEl.style.display =\n",
              "          google.colab.kernel.accessAllowed ? 'block' : 'none';\n",
              "\n",
              "        async function convertToInteractive(key) {\n",
              "          const element = document.querySelector('#df-52c0d2bf-082e-4a69-a845-11645e526d99');\n",
              "          const dataTable =\n",
              "            await google.colab.kernel.invokeFunction('convertToInteractive',\n",
              "                                                     [key], {});\n",
              "          if (!dataTable) return;\n",
              "\n",
              "          const docLinkHtml = 'Like what you see? Visit the ' +\n",
              "            '<a target=\"_blank\" href=https://colab.research.google.com/notebooks/data_table.ipynb>data table notebook</a>'\n",
              "            + ' to learn more about interactive tables.';\n",
              "          element.innerHTML = '';\n",
              "          dataTable['output_type'] = 'display_data';\n",
              "          await google.colab.output.renderOutput(dataTable, element);\n",
              "          const docLink = document.createElement('div');\n",
              "          docLink.innerHTML = docLinkHtml;\n",
              "          element.appendChild(docLink);\n",
              "        }\n",
              "      </script>\n",
              "    </div>\n",
              "  </div>\n",
              "  "
            ],
            "text/plain": [
              "                                                 WKT     name  description\n",
              "0  LINESTRING (106.657734 10.7720657, 106.6581232...   Line 1          NaN\n",
              "1  LINESTRING (106.6679937 10.7681858, 106.674394...   Line 3          NaN\n",
              "2  LINESTRING (106.6743943 10.7677114, 106.681702...   Line 4          NaN\n",
              "3  LINESTRING (106.6581232 10.770494, 106.663574 ...   Line 5          NaN\n",
              "4  LINESTRING (106.663574 10.7764293, 106.6657012...   Line 6          NaN\n",
              "5  LINESTRING (106.6731007 10.7709472, 106.674394...   Line 7          NaN\n",
              "6  LINESTRING (106.657734 10.7720657, 106.6560754...   Line 8          NaN\n",
              "7  LINESTRING (106.6589034 10.7806876, 106.663574...   Line 9          NaN\n",
              "8  LINESTRING (106.6707618 10.7696614, 106.665539...  Line 10          NaN\n",
              "9  LINESTRING (106.6816408 10.7778613, 106.689108...  Line 11          NaN"
            ]
          },
          "execution_count": 4,
          "metadata": {},
          "output_type": "execute_result"
        }
      ],
      "source": [
        "data"
      ]
    },
    {
      "attachments": {},
      "cell_type": "markdown",
      "metadata": {
        "id": "zz7VqYD5LuBp"
      },
      "source": [
        "**HyperParameter**"
      ]
    },
    {
      "cell_type": "code",
      "execution_count": null,
      "metadata": {
        "id": "vODl68lJLvq3"
      },
      "outputs": [],
      "source": [
        "Points_lst = []\n",
        "AdjLst = []"
      ]
    },
    {
      "attachments": {},
      "cell_type": "markdown",
      "metadata": {
        "id": "CpW71bIiEZk5"
      },
      "source": [
        "**Util Class**"
      ]
    },
    {
      "cell_type": "code",
      "execution_count": 63,
      "metadata": {
        "id": "98y-g6BcEa2c"
      },
      "outputs": [],
      "source": [
        "class Point:\n",
        "    ID = 0\n",
        "    def __init__(self,x,y):\n",
        "        self.x = x\n",
        "        self.y = y\n",
        "        self.ID = Point.ID\n",
        "        Point.ID += 1\n",
        "\n",
        "    def getID(self): return self.ID\n",
        "    def getX(self): return self.x\n",
        "    def getY(self): return self.y\n",
        "\n",
        "def EuclideDistance(PointA,PointB):\n",
        "    distX = PointA.getX() - PointB.getX()\n",
        "    distY = PointA.getY() - PointB.getY()\n",
        "    return math.sqrt(distX*distX + distY*distY)\n",
        "\n",
        "def checkPoint(x,y):\n",
        "    for idx,point in enumerate(Points_lst):\n",
        "        if (point.getX() == x) and (point.getY() == y):\n",
        "           return point.getID()\n",
        "    return -1"
      ]
    },
    {
      "cell_type": "code",
      "execution_count": 64,
      "metadata": {
        "colab": {
          "base_uri": "https://localhost:8080/"
        },
        "id": "3LobgMrhJtKc",
        "outputId": "8e836a8d-779f-48ae-f0c1-6bcc8779353d"
      },
      "outputs": [
        {
          "name": "stdout",
          "output_type": "stream",
          "text": [
            "12 [0, 1, 2, 3, 4, 5, 6, 7, 8, 9, 10, 11]\n",
            "11 1 0\n",
            "0 2 1\n",
            "1 3 2\n",
            "2 4 3\n",
            "3 5 4\n",
            "4 6 5\n",
            "5 7 6\n",
            "6 8 7\n",
            "7 9 8\n",
            "8 10 9\n",
            "9 11 10\n",
            "10 0 11\n",
            "5 [4, 12, 8, 13, 10]\n",
            "10 12 4\n",
            "4 8 12\n",
            "12 13 8\n",
            "8 10 13\n",
            "13 4 10\n",
            "3 [12, 14, 9]\n",
            "9 14 12\n",
            "12 9 14\n",
            "14 12 9\n",
            "3 [1, 15, 3]\n",
            "3 15 1\n",
            "1 3 15\n",
            "15 1 3\n",
            "4 [15, 16, 17, 18]\n",
            "18 16 15\n",
            "15 17 16\n",
            "16 18 17\n",
            "17 15 18\n",
            "2 [6, 12]\n",
            "12 12 6\n",
            "6 6 12\n",
            "5 [0, 19, 20, 21, 22]\n",
            "22 19 0\n",
            "0 20 19\n",
            "19 21 20\n",
            "20 22 21\n",
            "21 0 22\n",
            "2 [20, 15]\n",
            "15 15 20\n",
            "20 20 15\n",
            "2 [5, 23]\n",
            "23 23 5\n",
            "5 5 23\n",
            "3 [7, 24, 13]\n",
            "13 24 7\n",
            "7 13 24\n",
            "24 7 13\n"
          ]
        }
      ],
      "source": [
        "lines = data.shape[0]\n",
        "for line in range(lines):\n",
        "    src = data.iloc(0)[line][0]\n",
        "    src = src.split(' ',1)[1]\n",
        "    src = src[1: -1]\n",
        "    src = src.split(', ')\n",
        "    List_ID_temp = []\n",
        "    for point in src:\n",
        "        point = point.split(' ')\n",
        "        x,y = float(point[0]),float(point[1])\n",
        "        \n",
        "        idx = checkPoint(x,y)\n",
        "        if idx == -1:\n",
        "           #Point not in list\n",
        "           PointTemp = Point(x,y)\n",
        "           Points_lst.append(PointTemp)\n",
        "           AdjLst.append([])\n",
        "           List_ID_temp.append(PointTemp.getID())\n",
        "        else:\n",
        "           List_ID_temp.append(idx)\n",
        "    \n",
        "    lstLen = len(List_ID_temp)\n",
        "    print(lstLen,List_ID_temp)\n",
        "    if lstLen >= 2:\n",
        "       for i in range(lstLen):\n",
        "          prev = List_ID_temp[(i - 1 + lstLen) % lstLen]\n",
        "          after = List_ID_temp[(i + 1) % lstLen]\n",
        "          pres = List_ID_temp[i]\n",
        "          print(prev,after,pres)\n",
        "          if i != 0 and not (prev in AdjLst[pres]):\n",
        "             AdjLst[pres].append(prev)\n",
        "          if i != lstLen - 1 and not (after in AdjLst[pres]):\n",
        "             AdjLst[pres].append(after)"
      ]
    },
    {
      "cell_type": "code",
      "execution_count": 65,
      "metadata": {
        "colab": {
          "base_uri": "https://localhost:8080/"
        },
        "id": "6Q_Iz3chOTKw",
        "outputId": "464c80bf-b363-4dd8-f292-c603c66f480b"
      },
      "outputs": [
        {
          "data": {
            "text/plain": [
              "[[1, 19],\n",
              " [0, 2, 15],\n",
              " [1, 3],\n",
              " [2, 4, 15],\n",
              " [3, 5, 12],\n",
              " [4, 6, 23],\n",
              " [5, 7, 12],\n",
              " [6, 8, 24],\n",
              " [7, 9, 12, 13],\n",
              " [8, 10, 14],\n",
              " [9, 11, 13],\n",
              " [10],\n",
              " [4, 8, 14, 6],\n",
              " [8, 10, 24],\n",
              " [12, 9],\n",
              " [1, 3, 16, 20],\n",
              " [15, 17],\n",
              " [16, 18],\n",
              " [17],\n",
              " [0, 20],\n",
              " [19, 21, 15],\n",
              " [20, 22],\n",
              " [21],\n",
              " [5],\n",
              " [7, 13]]"
            ]
          },
          "execution_count": 65,
          "metadata": {},
          "output_type": "execute_result"
        }
      ],
      "source": [
        "AdjLst"
      ]
    },
    {
      "attachments": {},
      "cell_type": "markdown",
      "metadata": {
        "id": "_oxvwBlSRy_5"
      },
      "source": [
        "**Dijsktra PriorityQueue**"
      ]
    },
    {
      "cell_type": "code",
      "execution_count": 66,
      "metadata": {
        "id": "z10FPN6gR1QR"
      },
      "outputs": [],
      "source": [
        "class SavePath:\n",
        "    def __init__(self,u):\n",
        "        self.path = [u]\n",
        "        self.len = 0\n",
        "    \n",
        "    def add(self,v,dist):\n",
        "        self.path.append(v)\n",
        "        self.len += dist\n",
        "\n",
        "    def getPath(self):\n",
        "        return self.path\n",
        "\n",
        "    def getLen(self):\n",
        "        return self.len\n",
        "    \n",
        "    def getV(self): \n",
        "        return self.path[-1]"
      ]
    },
    {
      "cell_type": "code",
      "execution_count": 67,
      "metadata": {
        "id": "rONxUeqbVH6B"
      },
      "outputs": [],
      "source": [
        "class PQ:\n",
        "    def __init__(self):\n",
        "        self.pq = []\n",
        "\n",
        "    def push(self,data,val = None):\n",
        "        priority = data.getLen()\n",
        "        heapq.heappush(self.pq,(priority,data))\n",
        "\n",
        "    def pop(self):\n",
        "        item = heapq.heappop(self.pq)\n",
        "        return item\n",
        "\n",
        "    def isEmpty(self):\n",
        "        return len(self.pq) == 0"
      ]
    },
    {
      "cell_type": "code",
      "execution_count": 68,
      "metadata": {
        "id": "duTLKOL_V4e-"
      },
      "outputs": [],
      "source": [
        "def dijsktraKPath(source,target,k):\n",
        "    pq = PQ()\n",
        "    res = []\n",
        "    pq.push(SavePath(source))\n",
        "\n",
        "    cnt = np.zeros(len(Points_lst))\n",
        "    while not pq.isEmpty() and cnt[target] < k:\n",
        "        top = pq.pop()[1]\n",
        "        u = top.getV()\n",
        "\n",
        "        cnt[u] += 1\n",
        "        if u == target:\n",
        "           res.append(top)\n",
        "        if cnt[u] <= k and u != target: #explore\n",
        "           for v in AdjLst[u]:\n",
        "              dist = EuclideDistance(Points_lst[u],Points_lst[v])\n",
        "              if v not in top.getPath():\n",
        "                 new_route = copy.deepcopy(top)\n",
        "                 new_route.add(v,dist)\n",
        "                 pq.push(new_route)\n",
        "    return res"
      ]
    },
    {
      "cell_type": "code",
      "execution_count": 69,
      "metadata": {
        "colab": {
          "base_uri": "https://localhost:8080/"
        },
        "id": "UFem1DfCZXoF",
        "outputId": "2e04ada7-34a4-4508-a8be-0bb5af26cbd0"
      },
      "outputs": [
        {
          "name": "stdout",
          "output_type": "stream",
          "text": [
            "[1, 15, 16, 17]\n",
            "[1, 0, 19, 20, 15, 16, 17]\n",
            "[1, 2, 3, 15, 16, 17]\n"
          ]
        }
      ],
      "source": [
        "for path in dijsktraKPath(1,17,8):\n",
        "    print(path.getPath())"
      ]
    },
    {
      "attachments": {},
      "cell_type": "markdown",
      "metadata": {
        "id": "mOoQDBpheyXQ"
      },
      "source": [
        "**Yen algorithm**"
      ]
    },
    {
      "cell_type": "code",
      "execution_count": 70,
      "metadata": {
        "id": "j0ujrI68ez1P"
      },
      "outputs": [],
      "source": [
        "def dijkstra(graph, source, target):\n",
        "    dist = {v: np.inf for v in range(len(graph))}\n",
        "    dist[source] = 0\n",
        "    prev = {v: None for v in range(len(graph))}\n",
        "    visited = set()\n",
        "    heap = [(0, source)]\n",
        "    while heap:\n",
        "        d, u = heapq.heappop(heap)\n",
        "        if u in visited:\n",
        "            continue\n",
        "        visited.add(u)\n",
        "        if u == target:\n",
        "            break\n",
        "        for v in range(len(graph)):\n",
        "            if graph[u][v] is not None:\n",
        "                alt = dist[u] + graph[u][v]\n",
        "                if alt < dist[v]:\n",
        "                    dist[v] = alt\n",
        "                    prev[v] = u\n",
        "                    heapq.heappush(heap, (alt, v))\n",
        "    path = []\n",
        "    u = target\n",
        "    while prev[u] is not None:\n",
        "        path.append(u)\n",
        "        u = prev[u]\n",
        "    path.append(u)\n",
        "    path.reverse()\n",
        "    return path, dist[target]"
      ]
    },
    {
      "cell_type": "code",
      "execution_count": 71,
      "metadata": {
        "id": "9WPVxK0qj8Rw"
      },
      "outputs": [],
      "source": [
        "def yen_k_shortest_paths(source, target, k):\n",
        "    graph = np.zeros((len(AdjLst), len(AdjLst)))\n",
        "    for u in range(len(AdjLst)):\n",
        "        for v in range(len(AdjLst)):\n",
        "            if u == v:\n",
        "              graph[u][v] = 0\n",
        "            elif v in AdjLst[u]:\n",
        "              graph[u][v] = EuclideDistance(Points_lst[u],Points_lst[v])\n",
        "            else:\n",
        "              graph[u][v] = None\n",
        "    A = []\n",
        "    B = [dijkstra(graph, source, target)]\n",
        "    for i in range(1, k):\n",
        "        A.append(B[-1])\n",
        "        for j in range(len(A[-1][0])-1):\n",
        "            spur_node = A[-1][0][j]\n",
        "            root_path = A[-1][0][:j+1]\n",
        "            edges_removed = []\n",
        "            for path in A:\n",
        "                if len(path[0]) > j and root_path == path[0][:j+1]:\n",
        "                    u = path[0][j]\n",
        "                    v = path[0][j+1]\n",
        "                    if graph[u][v] is not None:\n",
        "                        edges_removed.append((u, v, graph[u][v]))\n",
        "                        edges_removed.append((v, u, graph[v][u]))\n",
        "                        graph[u][v] = None\n",
        "                        graph[v][u] = None\n",
        "            for node in root_path[:-1]:\n",
        "                for i in range(len(graph)):\n",
        "                    if graph[node][i] is not None:\n",
        "                       edges_removed.append((node, i, graph[node][i]))\n",
        "                    if graph[i][node] is not None:\n",
        "                       edges_removed.append((i, node, graph[i][node]))\n",
        "                    graph[node][i] = None\n",
        "                    graph[i][node] = None\n",
        "            spur_path, spur_dist = dijkstra(graph, spur_node, target)\n",
        "            if spur_path:\n",
        "                total_path = root_path[:-1] + spur_path\n",
        "                total_dist = A[-1][1] + spur_dist\n",
        "                B.append((total_path, total_dist))\n",
        "            for u, v, w in edges_removed:\n",
        "                graph[u][v] = w\n",
        "        if not B:\n",
        "            break\n",
        "        B.sort(key=lambda x: x[1])\n",
        "    return [path for path, dist in sorted(B, key=lambda x: x[1])[:k] if dist != np.inf]"
      ]
    },
    {
      "cell_type": "code",
      "execution_count": 72,
      "metadata": {
        "colab": {
          "base_uri": "https://localhost:8080/"
        },
        "id": "7t0xSx52j8er",
        "outputId": "bb6b5b77-b79f-4e78-82e1-002124b3c79a"
      },
      "outputs": [
        {
          "data": {
            "text/plain": [
              "[[1, 15, 16, 17], [1, 0, 19, 20, 15, 16, 17]]"
            ]
          },
          "execution_count": 72,
          "metadata": {},
          "output_type": "execute_result"
        }
      ],
      "source": [
        "yen_k_shortest_paths(1, 17, 3)"
      ]
    },
    {
      "attachments": {},
      "cell_type": "markdown",
      "metadata": {
        "id": "IQNiuGehZ0tA"
      },
      "source": [
        "**Mapping From point to Location**"
      ]
    },
    {
      "cell_type": "code",
      "execution_count": 73,
      "metadata": {
        "id": "cCJ66Ep0Z3pY"
      },
      "outputs": [],
      "source": [
        "point_name = pd.read_csv(\"/content/drive/MyDrive/shortest_path/point.csv\")"
      ]
    },
    {
      "cell_type": "code",
      "execution_count": 74,
      "metadata": {
        "colab": {
          "base_uri": "https://localhost:8080/",
          "height": 739
        },
        "id": "C5LrUgSia8iP",
        "outputId": "f7b55621-f51e-44b6-c528-35a3b575235b"
      },
      "outputs": [
        {
          "data": {
            "text/html": [
              "\n",
              "  <div id=\"df-b585c005-1da7-4ba4-99ec-f6f0d78f6a40\">\n",
              "    <div class=\"colab-df-container\">\n",
              "      <div>\n",
              "<style scoped>\n",
              "    .dataframe tbody tr th:only-of-type {\n",
              "        vertical-align: middle;\n",
              "    }\n",
              "\n",
              "    .dataframe tbody tr th {\n",
              "        vertical-align: top;\n",
              "    }\n",
              "\n",
              "    .dataframe thead th {\n",
              "        text-align: right;\n",
              "    }\n",
              "</style>\n",
              "<table border=\"1\" class=\"dataframe\">\n",
              "  <thead>\n",
              "    <tr style=\"text-align: right;\">\n",
              "      <th></th>\n",
              "      <th>WKT</th>\n",
              "      <th>name</th>\n",
              "      <th>description</th>\n",
              "    </tr>\n",
              "  </thead>\n",
              "  <tbody>\n",
              "    <tr>\n",
              "      <th>0</th>\n",
              "      <td>POINT (106.657734 10.7720657)</td>\n",
              "      <td>BKU</td>\n",
              "      <td>NaN</td>\n",
              "    </tr>\n",
              "    <tr>\n",
              "      <th>1</th>\n",
              "      <td>POINT (106.6581232 10.770494)</td>\n",
              "      <td>Point 1</td>\n",
              "      <td>NaN</td>\n",
              "    </tr>\n",
              "    <tr>\n",
              "      <th>2</th>\n",
              "      <td>POINT (106.65999 10.7638855)</td>\n",
              "      <td>Point 2</td>\n",
              "      <td>NaN</td>\n",
              "    </tr>\n",
              "    <tr>\n",
              "      <th>3</th>\n",
              "      <td>POINT (106.6670945 10.7677021)</td>\n",
              "      <td>Point 3</td>\n",
              "      <td>NaN</td>\n",
              "    </tr>\n",
              "    <tr>\n",
              "      <th>4</th>\n",
              "      <td>POINT (106.6707618 10.7696614)</td>\n",
              "      <td>Point 8</td>\n",
              "      <td>NaN</td>\n",
              "    </tr>\n",
              "    <tr>\n",
              "      <th>5</th>\n",
              "      <td>POINT (106.6743943 10.7677114)</td>\n",
              "      <td>Point 9</td>\n",
              "      <td>NaN</td>\n",
              "    </tr>\n",
              "    <tr>\n",
              "      <th>6</th>\n",
              "      <td>POINT (106.6655396 10.7779067)</td>\n",
              "      <td>Point 10</td>\n",
              "      <td>NaN</td>\n",
              "    </tr>\n",
              "    <tr>\n",
              "      <th>7</th>\n",
              "      <td>POINT (106.6647332 10.7868058)</td>\n",
              "      <td>Point 11</td>\n",
              "      <td>NaN</td>\n",
              "    </tr>\n",
              "    <tr>\n",
              "      <th>8</th>\n",
              "      <td>POINT (106.6721096 10.7829016)</td>\n",
              "      <td>Point 12</td>\n",
              "      <td>NaN</td>\n",
              "    </tr>\n",
              "    <tr>\n",
              "      <th>9</th>\n",
              "      <td>POINT (106.6731007 10.7709472)</td>\n",
              "      <td>Point 13</td>\n",
              "      <td>NaN</td>\n",
              "    </tr>\n",
              "    <tr>\n",
              "      <th>10</th>\n",
              "      <td>POINT (106.6816408 10.7778613)</td>\n",
              "      <td>Point 14</td>\n",
              "      <td>NaN</td>\n",
              "    </tr>\n",
              "    <tr>\n",
              "      <th>11</th>\n",
              "      <td>POINT (106.6837357 10.7767387)</td>\n",
              "      <td>Point 15</td>\n",
              "      <td>NaN</td>\n",
              "    </tr>\n",
              "    <tr>\n",
              "      <th>12</th>\n",
              "      <td>POINT (106.681702 10.7654336)</td>\n",
              "      <td>Point 16</td>\n",
              "      <td>NaN</td>\n",
              "    </tr>\n",
              "    <tr>\n",
              "      <th>13</th>\n",
              "      <td>POINT (106.689387 10.7736665)</td>\n",
              "      <td>Point 17</td>\n",
              "      <td>NaN</td>\n",
              "    </tr>\n",
              "    <tr>\n",
              "      <th>14</th>\n",
              "      <td>POINT (106.6891088 10.7849622)</td>\n",
              "      <td>Point 18</td>\n",
              "      <td>NaN</td>\n",
              "    </tr>\n",
              "    <tr>\n",
              "      <th>15</th>\n",
              "      <td>POINT (106.6907582 10.7833921)</td>\n",
              "      <td>Point 19</td>\n",
              "      <td>NaN</td>\n",
              "    </tr>\n",
              "    <tr>\n",
              "      <th>16</th>\n",
              "      <td>POINT (106.694966 10.7796108)</td>\n",
              "      <td>Point 20</td>\n",
              "      <td>NaN</td>\n",
              "    </tr>\n",
              "    <tr>\n",
              "      <th>17</th>\n",
              "      <td>POINT (106.6964492 10.7782001)</td>\n",
              "      <td>Dinh</td>\n",
              "      <td>NaN</td>\n",
              "    </tr>\n",
              "    <tr>\n",
              "      <th>18</th>\n",
              "      <td>POINT (106.663574 10.7764293)</td>\n",
              "      <td>Point 4</td>\n",
              "      <td>NaN</td>\n",
              "    </tr>\n",
              "    <tr>\n",
              "      <th>19</th>\n",
              "      <td>POINT (106.6560754 10.7778209)</td>\n",
              "      <td>Point 5</td>\n",
              "      <td>NaN</td>\n",
              "    </tr>\n",
              "    <tr>\n",
              "      <th>20</th>\n",
              "      <td>POINT (106.6589034 10.7806876)</td>\n",
              "      <td>Point 6</td>\n",
              "      <td>NaN</td>\n",
              "    </tr>\n",
              "    <tr>\n",
              "      <th>21</th>\n",
              "      <td>POINT (106.6679937 10.7681858)</td>\n",
              "      <td>Point 7</td>\n",
              "      <td>NaN</td>\n",
              "    </tr>\n",
              "  </tbody>\n",
              "</table>\n",
              "</div>\n",
              "      <button class=\"colab-df-convert\" onclick=\"convertToInteractive('df-b585c005-1da7-4ba4-99ec-f6f0d78f6a40')\"\n",
              "              title=\"Convert this dataframe to an interactive table.\"\n",
              "              style=\"display:none;\">\n",
              "        \n",
              "  <svg xmlns=\"http://www.w3.org/2000/svg\" height=\"24px\"viewBox=\"0 0 24 24\"\n",
              "       width=\"24px\">\n",
              "    <path d=\"M0 0h24v24H0V0z\" fill=\"none\"/>\n",
              "    <path d=\"M18.56 5.44l.94 2.06.94-2.06 2.06-.94-2.06-.94-.94-2.06-.94 2.06-2.06.94zm-11 1L8.5 8.5l.94-2.06 2.06-.94-2.06-.94L8.5 2.5l-.94 2.06-2.06.94zm10 10l.94 2.06.94-2.06 2.06-.94-2.06-.94-.94-2.06-.94 2.06-2.06.94z\"/><path d=\"M17.41 7.96l-1.37-1.37c-.4-.4-.92-.59-1.43-.59-.52 0-1.04.2-1.43.59L10.3 9.45l-7.72 7.72c-.78.78-.78 2.05 0 2.83L4 21.41c.39.39.9.59 1.41.59.51 0 1.02-.2 1.41-.59l7.78-7.78 2.81-2.81c.8-.78.8-2.07 0-2.86zM5.41 20L4 18.59l7.72-7.72 1.47 1.35L5.41 20z\"/>\n",
              "  </svg>\n",
              "      </button>\n",
              "      \n",
              "  <style>\n",
              "    .colab-df-container {\n",
              "      display:flex;\n",
              "      flex-wrap:wrap;\n",
              "      gap: 12px;\n",
              "    }\n",
              "\n",
              "    .colab-df-convert {\n",
              "      background-color: #E8F0FE;\n",
              "      border: none;\n",
              "      border-radius: 50%;\n",
              "      cursor: pointer;\n",
              "      display: none;\n",
              "      fill: #1967D2;\n",
              "      height: 32px;\n",
              "      padding: 0 0 0 0;\n",
              "      width: 32px;\n",
              "    }\n",
              "\n",
              "    .colab-df-convert:hover {\n",
              "      background-color: #E2EBFA;\n",
              "      box-shadow: 0px 1px 2px rgba(60, 64, 67, 0.3), 0px 1px 3px 1px rgba(60, 64, 67, 0.15);\n",
              "      fill: #174EA6;\n",
              "    }\n",
              "\n",
              "    [theme=dark] .colab-df-convert {\n",
              "      background-color: #3B4455;\n",
              "      fill: #D2E3FC;\n",
              "    }\n",
              "\n",
              "    [theme=dark] .colab-df-convert:hover {\n",
              "      background-color: #434B5C;\n",
              "      box-shadow: 0px 1px 3px 1px rgba(0, 0, 0, 0.15);\n",
              "      filter: drop-shadow(0px 1px 2px rgba(0, 0, 0, 0.3));\n",
              "      fill: #FFFFFF;\n",
              "    }\n",
              "  </style>\n",
              "\n",
              "      <script>\n",
              "        const buttonEl =\n",
              "          document.querySelector('#df-b585c005-1da7-4ba4-99ec-f6f0d78f6a40 button.colab-df-convert');\n",
              "        buttonEl.style.display =\n",
              "          google.colab.kernel.accessAllowed ? 'block' : 'none';\n",
              "\n",
              "        async function convertToInteractive(key) {\n",
              "          const element = document.querySelector('#df-b585c005-1da7-4ba4-99ec-f6f0d78f6a40');\n",
              "          const dataTable =\n",
              "            await google.colab.kernel.invokeFunction('convertToInteractive',\n",
              "                                                     [key], {});\n",
              "          if (!dataTable) return;\n",
              "\n",
              "          const docLinkHtml = 'Like what you see? Visit the ' +\n",
              "            '<a target=\"_blank\" href=https://colab.research.google.com/notebooks/data_table.ipynb>data table notebook</a>'\n",
              "            + ' to learn more about interactive tables.';\n",
              "          element.innerHTML = '';\n",
              "          dataTable['output_type'] = 'display_data';\n",
              "          await google.colab.output.renderOutput(dataTable, element);\n",
              "          const docLink = document.createElement('div');\n",
              "          docLink.innerHTML = docLinkHtml;\n",
              "          element.appendChild(docLink);\n",
              "        }\n",
              "      </script>\n",
              "    </div>\n",
              "  </div>\n",
              "  "
            ],
            "text/plain": [
              "                               WKT      name  description\n",
              "0    POINT (106.657734 10.7720657)       BKU          NaN\n",
              "1    POINT (106.6581232 10.770494)   Point 1          NaN\n",
              "2     POINT (106.65999 10.7638855)   Point 2          NaN\n",
              "3   POINT (106.6670945 10.7677021)   Point 3          NaN\n",
              "4   POINT (106.6707618 10.7696614)   Point 8          NaN\n",
              "5   POINT (106.6743943 10.7677114)   Point 9          NaN\n",
              "6   POINT (106.6655396 10.7779067)  Point 10          NaN\n",
              "7   POINT (106.6647332 10.7868058)  Point 11          NaN\n",
              "8   POINT (106.6721096 10.7829016)  Point 12          NaN\n",
              "9   POINT (106.6731007 10.7709472)  Point 13          NaN\n",
              "10  POINT (106.6816408 10.7778613)  Point 14          NaN\n",
              "11  POINT (106.6837357 10.7767387)  Point 15          NaN\n",
              "12   POINT (106.681702 10.7654336)  Point 16          NaN\n",
              "13   POINT (106.689387 10.7736665)  Point 17          NaN\n",
              "14  POINT (106.6891088 10.7849622)  Point 18          NaN\n",
              "15  POINT (106.6907582 10.7833921)  Point 19          NaN\n",
              "16   POINT (106.694966 10.7796108)  Point 20          NaN\n",
              "17  POINT (106.6964492 10.7782001)      Dinh          NaN\n",
              "18   POINT (106.663574 10.7764293)   Point 4          NaN\n",
              "19  POINT (106.6560754 10.7778209)   Point 5          NaN\n",
              "20  POINT (106.6589034 10.7806876)   Point 6          NaN\n",
              "21  POINT (106.6679937 10.7681858)   Point 7          NaN"
            ]
          },
          "execution_count": 74,
          "metadata": {},
          "output_type": "execute_result"
        }
      ],
      "source": [
        "point_name"
      ]
    },
    {
      "cell_type": "code",
      "execution_count": 75,
      "metadata": {
        "id": "3cKUepV6Z_9c"
      },
      "outputs": [],
      "source": [
        "src_name = \"BKU\"\n",
        "target_name = \"Dinh\""
      ]
    },
    {
      "cell_type": "code",
      "execution_count": 76,
      "metadata": {
        "id": "o6IBtCEVaJfc"
      },
      "outputs": [],
      "source": [
        "def getCoord(name):\n",
        "    data = point_name[point_name['name'] == name][\"WKT\"].to_list()[0]\n",
        "    data = data.split(' ',1)[1][1:-1].split(' ')\n",
        "    return Point(float(data[0]),float(data[1]))\n",
        "\n",
        "def getClosestPoint(PointTemp):\n",
        "    minIdx = 0\n",
        "    minVal = 999999\n",
        "    for idx,val in enumerate(Points_lst):\n",
        "        dist = EuclideDistance(PointTemp,val)\n",
        "        if dist < minVal:\n",
        "           minIdx = val.getID()\n",
        "           minVal = dist\n",
        "    return minIdx"
      ]
    },
    {
      "cell_type": "code",
      "execution_count": 77,
      "metadata": {
        "id": "4-fUU1zPc6av"
      },
      "outputs": [],
      "source": [
        "source_idx = getClosestPoint(getCoord(src_name))\n",
        "target_idx = getClosestPoint(getCoord(target_name))"
      ]
    },
    {
      "cell_type": "code",
      "execution_count": 78,
      "metadata": {
        "colab": {
          "base_uri": "https://localhost:8080/"
        },
        "id": "v6Rus_AbdK45",
        "outputId": "6f6af8c8-55fc-4c3b-97bd-aee40d065d49"
      },
      "outputs": [
        {
          "name": "stdout",
          "output_type": "stream",
          "text": [
            "11\n",
            "0\n"
          ]
        }
      ],
      "source": [
        "print(target_idx)\n",
        "print(source_idx)"
      ]
    },
    {
      "cell_type": "code",
      "execution_count": 80,
      "metadata": {
        "id": "jLJDq9g8d_EZ"
      },
      "outputs": [],
      "source": [
        "def WaveWater(source_idx,target_idx,k):\n",
        "    with open('waveWater.txt',mode = 'a') as f:\n",
        "        for path in dijsktraKPath(source_idx,target_idx,k):\n",
        "            for idx in path.getPath():\n",
        "                f.write(\"{},{}\\n\".format(Points_lst[idx].getX(),Points_lst[idx].getY()))\n",
        "            f.write(\"========================\\n\")\n",
        "\n",
        "\n",
        "def YenAlgo(source_idx,target_idx,k):\n",
        "    with open('yenAlgo.txt',mode = 'a') as f:\n",
        "        for path in yen_k_shortest_paths(source_idx, target_idx, k):\n",
        "            for idx in path:\n",
        "                f.write(\"{},{}\\n\".format(Points_lst[idx].getX(),Points_lst[idx].getY()))\n",
        "            f.write(\"========================\\n\")\n",
        "        "
      ]
    },
    {
      "cell_type": "code",
      "execution_count": 81,
      "metadata": {
        "id": "OSmo8DL3eEtv"
      },
      "outputs": [],
      "source": [
        "WaveWater(source_idx,target_idx,3)"
      ]
    },
    {
      "cell_type": "code",
      "execution_count": 82,
      "metadata": {
        "id": "hj1XRtRLeFWb"
      },
      "outputs": [],
      "source": [
        "YenAlgo(source_idx,target_idx,3)"
      ]
    }
  ],
  "metadata": {
    "colab": {
      "provenance": []
    },
    "kernelspec": {
      "display_name": "Python 3",
      "name": "python3"
    },
    "language_info": {
      "name": "python",
      "version": "3.10.5"
    }
  },
  "nbformat": 4,
  "nbformat_minor": 0
}
